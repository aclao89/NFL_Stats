{
 "cells": [
  {
   "cell_type": "code",
   "execution_count": 2,
   "metadata": {},
   "outputs": [],
   "source": [
    "# Import Scraping Modules \n",
    "\n",
    "from urllib.request import urlopen\n",
    "from bs4 import BeautifulSoup\n",
    "\n",
    "#Import data manipulation and viz packages \n",
    "\n",
    "import pandas as pd\n",
    "import numpy as np \n",
    "import matplotlib.pyplot as plt \n",
    "import matplotlib as mpl\n",
    "import statistics "
   ]
  },
  {
   "cell_type": "code",
   "execution_count": 3,
   "metadata": {},
   "outputs": [],
   "source": [
    "#url page for NFL Passing Leaders for 2020-2021 Season \n",
    "\n",
    "url = 'https://www.pro-football-reference.com/years/2020/rushing.htm'\n",
    "\n",
    "#Use the scraping module to open url and pass to Beautiful Soup\n",
    "\n",
    "html = urlopen(url)\n",
    "\n",
    "stats_sheet = BeautifulSoup(html)"
   ]
  },
  {
   "cell_type": "code",
   "execution_count": 7,
   "metadata": {},
   "outputs": [
    {
     "name": "stdout",
     "output_type": "stream",
     "text": [
      "['Rk', 'Player', 'Tm', 'Age', 'Pos', 'G', 'GS', 'Att', 'Yds', 'TD', '1D', 'Lng', 'Y/A', 'Y/G', 'Fmb']\n",
      "['Derrick Henry *+', 'TEN', '26', 'RB', '16', '16', '378', '2027', '17', '98', '94', '5.4', '126.7', '3']\n"
     ]
    }
   ],
   "source": [
    "#Fetch column header - 1st row; since the chart has two levels: Games & Rushing as 1st row, we will select index 1 for column headers\n",
    "\n",
    "column_headers = stats_sheet.findAll('tr')[1]\n",
    "\n",
    "column_headers = [i.getText() for i in column_headers.findAll('th')]\n",
    "\n",
    "print(column_headers)\n",
    "\n",
    "table_row = stats_sheet.findAll('tr')[2:]\n",
    "\n",
    "rush_stats = []\n",
    "\n",
    "for i in range(len(table_row)):\n",
    "    rush_stats.append([col.getText() for col in table_row[i].findAll('td')])\n",
    "    \n",
    "print(rush_stats[0])    "
   ]
  }
 ],
 "metadata": {
  "kernelspec": {
   "display_name": "Python 3",
   "language": "python",
   "name": "python3"
  },
  "language_info": {
   "codemirror_mode": {
    "name": "ipython",
    "version": 3
   },
   "file_extension": ".py",
   "mimetype": "text/x-python",
   "name": "python",
   "nbconvert_exporter": "python",
   "pygments_lexer": "ipython3",
   "version": "3.8.5"
  }
 },
 "nbformat": 4,
 "nbformat_minor": 4
}
